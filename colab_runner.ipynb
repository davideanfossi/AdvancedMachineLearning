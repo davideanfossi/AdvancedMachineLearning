{
  "cells": [
    {
      "attachments": {},
      "cell_type": "markdown",
      "metadata": {},
      "source": [
        "# Getting started for the AML 2023/2024 Egocentric Vision Project"
      ]
    },
    {
      "attachments": {},
      "cell_type": "markdown",
      "metadata": {
        "colab_type": "text",
        "id": "view-in-github"
      },
      "source": [
        "<a href=\"https://colab.research.google.com/github/EgovisionPolito/aml23-ego/blob/master/colab_runner.ipynb\" target=\"_parent\"><img src=\"https://colab.research.google.com/assets/colab-badge.svg\" alt=\"Open In Colab\"/></a>"
      ]
    },
    {
      "cell_type": "markdown",
      "metadata": {},
      "source": [
        "## Master branch"
      ]
    },
    {
      "cell_type": "markdown",
      "metadata": {},
      "source": [
        "### Get the code"
      ]
    },
    {
      "cell_type": "code",
      "execution_count": null,
      "metadata": {},
      "outputs": [],
      "source": [
        "# Clone the public repository (or your repository)\n",
        "!git clone https://github.com/emi-2205/aml23-ego.git aml23-ego\n",
        "#%cd /content/aml23-ego\n",
        "#!git pull https://github.com/emi-2205/aml23-ego.git"
      ]
    },
    {
      "cell_type": "markdown",
      "metadata": {},
      "source": [
        "### Additional Modules"
      ]
    },
    {
      "cell_type": "code",
      "execution_count": null,
      "metadata": {},
      "outputs": [],
      "source": [
        "# Installing missing dependencies\n",
        "!pip install omegaconf coloredlogs wandb"
      ]
    },
    {
      "attachments": {},
      "cell_type": "markdown",
      "metadata": {},
      "source": [
        "### Get dataset - EPIC-Kitchens-55"
      ]
    },
    {
      "cell_type": "code",
      "execution_count": null,
      "metadata": {},
      "outputs": [],
      "source": [
        "# Mount google drive \n",
        "from google.colab import drive\n",
        "drive.mount('/content/drive')"
      ]
    },
    {
      "cell_type": "code",
      "execution_count": null,
      "metadata": {},
      "outputs": [],
      "source": [
        "%%bash\n",
        "\n",
        "mkdir -p an_data/frames\n",
        "mkdir -p saved_models\n",
        "\n",
        "cp /content/drive/MyDrive/AML/AML_ek55/Epic_Kitchens_reduced1/P04_01.zip ./an_data\n",
        "#cp /content/drive/MyDrive/AML/AML_ek55/Epic_Kitchens_reduced2/*.tar.gz ./an_data\n",
        "#cp /content/drive/MyDrive/AML/AML_ek55/Epic_Kitchens_reduced3/*.tar.gz ./an_data\n",
        "\n",
        "cp -r /content/drive/MyDrive/AML/AML_project/checkpoints/I3D_SourceOnlyD3 ./saved_models\n",
        "\n",
        "# Unzip\n",
        "for file in ./an_data/*.zip; do\n",
        "  fn=$(basename $file)\n",
        "  fn=${fn/.zip/}\n",
        "  ls -lah $file\n",
        "  unzip $file -d an_data/frames/\n",
        "  rm $file\n",
        "done\n",
        "\n",
        "# Untar\n",
        "#for file in ./an_data/*.tar.gz; do\n",
        "#  fn=$(basename $file)\n",
        "#  fn=${fn/.tar.gz/}\n",
        "#  ls -lah $file\n",
        "#  mkdir -p an_data/frames/$fn\n",
        "#  tar xf $file --directory=an_data/frames/$fn\n",
        "#  rm $file\n",
        "#done"
      ]
    },
    {
      "cell_type": "markdown",
      "metadata": {},
      "source": [
        "## Epic Kitchen"
      ]
    },
    {
      "attachments": {},
      "cell_type": "markdown",
      "metadata": {},
      "source": [
        "### Features extraction"
      ]
    },
    {
      "cell_type": "code",
      "execution_count": null,
      "metadata": {
        "id": "88YghJyXhbfS"
      },
      "outputs": [],
      "source": [
        "%%bash\n",
        "cd aml23-ego \n",
        "# TRAIN FEATURES EXTRACTION (+ aggregation)\n",
        "python save_feat.py name=D1 \\\n",
        "  config=configs/I3D_save_feat.yaml \\\n",
        "  split=test \\\n",
        "  dataset.shift=D1-D1 \\\n",
        "  dataset.RGB.data_path=../ek_data/frames "
      ]
    },
    {
      "cell_type": "code",
      "execution_count": null,
      "metadata": {},
      "outputs": [],
      "source": [
        "%%bash\n",
        "cd aml23-ego \n",
        "# TEST FEATURES EXTRACTION\n",
        "python save_feat.py name=D1 \\\n",
        "  config=configs/I3D_save_feat.yaml \\\n",
        "  split=train \\\n",
        "  dataset.shift=D1-D1 \\\n",
        "  dataset.RGB.data_path=../ek_data/frames "
      ]
    },
    {
      "cell_type": "code",
      "execution_count": null,
      "metadata": {},
      "outputs": [],
      "source": [
        "%%bash\n",
        "cd aml23-ego \n",
        "# CLASSIFIER's TRAINING\n",
        "python train_classifier.py name=D1 \\\n",
        "  config=configs/default.yaml \\\n",
        "  dataset.shift=D1-D1 \\\n",
        "  dataset.RGB.data_path=../ek_data/frames "
      ]
    },
    {
      "cell_type": "code",
      "execution_count": null,
      "metadata": {},
      "outputs": [],
      "source": [
        "%%bash\n",
        "cd aml23-ego \n",
        "# CLASSIFIER's VALIDATION\n",
        "python train_classifier.py name=D1 \\\n",
        "  config=configs/default.yaml \\\n",
        "  action=validate \\\n",
        "  dataset.shift=D1-D1 \\\n",
        "  dataset.RGB.data_path=../ek_data/frames "
      ]
    },
    {
      "cell_type": "markdown",
      "metadata": {},
      "source": [
        "## Action Net"
      ]
    },
    {
      "cell_type": "code",
      "execution_count": null,
      "metadata": {},
      "outputs": [],
      "source": [
        "%%bash\n",
        "cd aml23-ego \n",
        "# TRAIN FEATURES EXTRACTION (+ aggregation)\n",
        "python save_feat.py name=feature_extracted \\\n",
        "  config=configs/I3D_save_feat.yaml \\\n",
        "  split=train \\\n",
        "  dataset.shift=D3-D4 \\\n",
        "  dataset.RGB.data_path=../an_data/frames "
      ]
    },
    {
      "cell_type": "code",
      "execution_count": null,
      "metadata": {},
      "outputs": [],
      "source": [
        "%%bash\n",
        "cd aml23-ego \n",
        "# TRAIN FEATURES EXTRACTION (+ aggregation)\n",
        "python save_feat.py name=feature_extracted \\\n",
        "  config=configs/I3D_save_feat.yaml \\\n",
        "  split=test \\\n",
        "  dataset.shift=D3-D4 \\\n",
        "  dataset.RGB.data_path=../an_data/frames "
      ]
    },
    {
      "cell_type": "code",
      "execution_count": null,
      "metadata": {},
      "outputs": [],
      "source": [
        "%%bash\n",
        "cd aml23-ego \n",
        "# CLASSIFIER's TRAINING\n",
        "python train_classifier.py name=transformer_classifier \\\n",
        "  config=configs/default_an.yaml \\\n",
        "  dataset.shift=D4-D4 \\\n",
        "  dataset.RGB.data_path=../an_data/frames "
      ]
    },
    {
      "cell_type": "code",
      "execution_count": null,
      "metadata": {},
      "outputs": [],
      "source": [
        "%%bash\n",
        "cd aml23-ego \n",
        "# CLASSIFIER's TRAINING\n",
        "python train_classifier.py name=transformer_classifier \\\n",
        "  config=configs/default_an.yaml \\\n",
        "  action=validate \\\n",
        "  dataset.shift=D4-D4 \\\n",
        "  dataset.RGB.data_path=../an_data/frames "
      ]
    },
    {
      "cell_type": "markdown",
      "metadata": {},
      "source": [
        "## Emilio's branch"
      ]
    },
    {
      "cell_type": "markdown",
      "metadata": {},
      "source": [
        "### Get the code + Drive"
      ]
    },
    {
      "cell_type": "code",
      "execution_count": null,
      "metadata": {},
      "outputs": [],
      "source": [
        "# Mount google drive \n",
        "from google.colab import drive\n",
        "drive.mount('/content/drive')"
      ]
    },
    {
      "cell_type": "code",
      "execution_count": null,
      "metadata": {},
      "outputs": [],
      "source": [
        "# CLONE\n",
        "!git clone -b LSTM https://github.com/emi-2205/aml23-ego.git aml23-ego"
      ]
    },
    {
      "cell_type": "code",
      "execution_count": null,
      "metadata": {},
      "outputs": [],
      "source": [
        "# PULL\n",
        "#%cd /content/aml23-ego\n",
        "#!git pull https://github.com/emi-2205/aml23-ego.git LSTM"
      ]
    },
    {
      "cell_type": "code",
      "execution_count": null,
      "metadata": {},
      "outputs": [],
      "source": [
        "# Installing missing dependencies\n",
        "!pip install omegaconf coloredlogs wandb"
      ]
    },
    {
      "cell_type": "markdown",
      "metadata": {},
      "source": [
        "### Get Epic-Kitchen Data from Drive"
      ]
    },
    {
      "cell_type": "code",
      "execution_count": null,
      "metadata": {},
      "outputs": [],
      "source": [
        "%%bash\n",
        "mkdir -p saved_models/\n",
        "# take the I3DSourceOnlyD1\n",
        "cp -r /content/drive/MyDrive/MLDL23/I3D_SourceOnlyD1 ./saved_models/I3D_SourceOnlyD1"
      ]
    },
    {
      "cell_type": "code",
      "execution_count": null,
      "metadata": {},
      "outputs": [],
      "source": [
        "%%bash\n",
        "mkdir -p ek_data/frames\n",
        "\n",
        "# Copy the *.tar.gz files of Epic-Kitchens\n",
        "cp /content/drive/MyDrive/MLDL23/Epic_Kitchens_reduced/*.zip ./ek_data\n",
        "#cp /content/drive/MyDrive/MLDL23/Epic_Kitchens_reduced/P08_09.zip ./ek_data\n",
        "#cp /content/drive/MyDrive/MLDL23/Epic_Kitchens_reduced/P08_10.zip ./ek_data\n",
        "#cp /content/drive/MyDrive/MLDL23/Epic_Kitchens_reduced/P08_14.zip ./ek_data\n",
        "#cp /content/drive/MyDrive/MLDL23/Epic_Kitchens_reduced/P08_15.zip ./ek_data\n",
        "#cp /content/drive/MyDrive/MLDL23/Epic_Kitchens_reduced/P08_16.zip ./ek_data\n",
        "#cp /content/drive/MyDrive/MLDL23/Epic_Kitchens_reduced/P08_17.zip ./ek_data\n",
        "\n",
        "# Unzip and remove the original zip file\n",
        "for file in ./ek_data/*.zip; do\n",
        "  fn=$(basename $file)\n",
        "  fn=${fn/.zip/}\n",
        "  ls -lah $file\n",
        "  mkdir -p ek_data/frames/$fn\n",
        "  unzip $file -d ek_data/frames/\n",
        "  rm $file  # Remove the original zip file after extraction\n",
        "done"
      ]
    },
    {
      "cell_type": "markdown",
      "metadata": {},
      "source": [
        "### Features extraction"
      ]
    },
    {
      "cell_type": "code",
      "execution_count": null,
      "metadata": {},
      "outputs": [],
      "source": [
        "%%bash\n",
        "cd aml23-ego \n",
        "# TRAIN FEATURES EXTRACTION (+ aggregation)\n",
        "python save_feat.py name=D1 \\\n",
        "  config=configs/I3D_save_feat.yaml \\\n",
        "  split=test \\\n",
        "  dataset.shift=D1-D1 \\\n",
        "  dataset.RGB.data_path=../ek_data/frames "
      ]
    },
    {
      "cell_type": "code",
      "execution_count": null,
      "metadata": {},
      "outputs": [],
      "source": [
        "%%bash\n",
        "cd aml23-ego \n",
        "# TEST FEATURES EXTRACTION\n",
        "python save_feat.py name=D1 \\\n",
        "  config=configs/I3D_save_feat.yaml \\\n",
        "  split=train \\\n",
        "  dataset.shift=D1-D1 \\\n",
        "  dataset.RGB.data_path=../ek_data/frames "
      ]
    },
    {
      "cell_type": "markdown",
      "metadata": {},
      "source": [
        "### Train"
      ]
    },
    {
      "cell_type": "code",
      "execution_count": null,
      "metadata": {},
      "outputs": [],
      "source": [
        "%%bash\n",
        "cd aml23-ego\n",
        "\n",
        "python train_classifier.py \\\n",
        "  config=configs/default.yaml \\\n",
        "  name=D1 \\\n",
        "  action=train \\\n",
        "  dataset.shift=D1-D1 \\\n",
        "  dataset.RGB.data_path=../ek_data/frames "
      ]
    },
    {
      "cell_type": "markdown",
      "metadata": {},
      "source": [
        "## Wrapper"
      ]
    },
    {
      "cell_type": "code",
      "execution_count": null,
      "metadata": {},
      "outputs": [],
      "source": [
        "# Clone wrapper branch\n",
        "%cd aml23-ego/\n",
        "!git switch wrapper\n",
        "\n",
        "# Mount google drive \n",
        "from google.colab import drive\n",
        "drive.mount('/content/drive')\n",
        "\n",
        "# copy big files\n",
        "!cp /content/drive/MyDrive/big_file_train.pkl /content/aml23-ego/train_val/\n",
        "!cp /content/drive/MyDrive/big_file_test.pkl /content/aml23-ego/train_val/"
      ]
    },
    {
      "cell_type": "code",
      "execution_count": null,
      "metadata": {},
      "outputs": [],
      "source": [
        "%%bash\n",
        "cd aml23-ego \n",
        "# CLASSIFIER's TRAINING\n",
        "python train_classifier2.py name=D1 \\\n",
        "  config=configs/emg.yaml \\\n",
        "  dataset.shift=D1-D1 \\\n",
        "  dataset.RGB.data_path=../ek_data/frames "
      ]
    },
    {
      "cell_type": "markdown",
      "metadata": {},
      "source": [
        "## Fusion\n"
      ]
    },
    {
      "cell_type": "code",
      "execution_count": 10,
      "metadata": {},
      "outputs": [
        {
          "name": "stderr",
          "output_type": "stream",
          "text": [
            "bash: line 1: cd: aml23-ego: No such file or directory\n",
            "2024-02-17 17:45:06 LOG INFO Running with parameters: \n",
            "  action: train\n",
            "  name: D1\n",
            "  modality: ['EMG', 'RGB']\n",
            "  total_batch: 128\n",
            "  batch_size: 32\n",
            "  gpus: None\n",
            "  wandb_name: None\n",
            "  resume_from: None\n",
            "  logname: None\n",
            "  models_dir: ./models\n",
            "  train:\n",
            "    num_iter: 5000\n",
            "    lr_steps: 3000\n",
            "    eval_freq: 50\n",
            "    num_clips: 1\n",
            "    dense_sampling:\n",
            "      RGB: True\n",
            "    num_frames_per_clip:\n",
            "      RGB: 10\n",
            "  test:\n",
            "    num_clips: 5\n",
            "    dense_sampling:\n",
            "      RGB: True\n",
            "    num_frames_per_clip:\n",
            "      RGB: 10\n",
            "  dataset:\n",
            "    annotations_path: train_val_action_net\n",
            "    shift: D1-D1\n",
            "    workers: 4\n",
            "    stride: 2\n",
            "    resolution: 224\n",
            "    num_classes: 20\n",
            "    RGB:\n",
            "      data_path: ../ek_data/frames\n",
            "      tmpl: img_{:010d}.jpg\n",
            "      features_name: D1\n",
            "    Event:\n",
            "      rgb4e: 6\n",
            "  models:\n",
            "    RGB:\n",
            "      model: MLP\n",
            "      normalize: False\n",
            "      kwargs:\n",
            "      lr_steps: 3000\n",
            "      lr: 0.01\n",
            "      sgd_momentum: 0.9\n",
            "      weight_decay: 1e-07\n",
            "    EMG:\n",
            "      model: ActionNetwork\n",
            "      normalize: False\n",
            "      kwargs:\n",
            "      lr_steps: 3000\n",
            "      lr: 0.01\n",
            "      sgd_momentum: 0.9\n",
            "      weight_decay: 1e-07\n",
            "  config: configs/fusion.yaml\n",
            "  experiment_dir: D1/Feb17_17-44-58\n",
            "  log_dir: Experiment_logs/D1/Feb17_17-44-58\n",
            "  logfile: Experiment_logs/D1/Feb17_17-44-58/train.log\n",
            "2024-02-17 17:45:06 LOG INFO Instantiating models per modality\n",
            "2024-02-17 17:45:06 LOG INFO ActionNetwork Net\tModality: EMG\n",
            "2024-02-17 17:45:06 LOG INFO MLP Net\tModality: RGB\n",
            "2024-02-17 17:45:08 LOG ERROR Uncaught exception\n",
            "Traceback (most recent call last):\n",
            "  File \"/home/davide/Desktop/useful data/aml23-ego/train_classifier_fusion.py\", line 140, in train\n",
            "    source_data, source_label = next(data_loader_source)\n",
            "                                ^^^^^^^^^^^^^^^^^^^^^^^^\n",
            "  File \"/opt/anaconda/lib/python3.11/site-packages/torch/utils/data/dataloader.py\", line 630, in __next__\n",
            "    data = self._next_data()\n",
            "           ^^^^^^^^^^^^^^^^^\n",
            "  File \"/opt/anaconda/lib/python3.11/site-packages/torch/utils/data/dataloader.py\", line 1318, in _next_data\n",
            "    raise StopIteration\n",
            "StopIteration\n",
            "\n",
            "During handling of the above exception, another exception occurred:\n",
            "\n",
            "Traceback (most recent call last):\n",
            "  File \"/home/davide/Desktop/useful data/aml23-ego/train_classifier_fusion.py\", line 261, in <module>\n",
            "    main()\n",
            "  File \"/home/davide/Desktop/useful data/aml23-ego/train_classifier_fusion.py\", line 92, in main\n",
            "    train(action_classifier, train_loader, val_loader, device, num_classes)\n",
            "  File \"/home/davide/Desktop/useful data/aml23-ego/train_classifier_fusion.py\", line 145, in train\n",
            "    source_data, source_label = next(data_loader_source)\n",
            "                                ^^^^^^^^^^^^^^^^^^^^^^^^\n",
            "  File \"/opt/anaconda/lib/python3.11/site-packages/torch/utils/data/dataloader.py\", line 630, in __next__\n",
            "    data = self._next_data()\n",
            "           ^^^^^^^^^^^^^^^^^\n",
            "  File \"/opt/anaconda/lib/python3.11/site-packages/torch/utils/data/dataloader.py\", line 1318, in _next_data\n",
            "    raise StopIteration\n",
            "StopIteration\n"
          ]
        },
        {
          "ename": "CalledProcessError",
          "evalue": "Command 'b\"cd aml23-ego \\n# CLASSIFIER's TRAINING\\npython train_classifier_fusion.py name=D1 \\\\\\n  config=configs/fusion.yaml \\\\\\n  dataset.shift=D1-D1 \\\\\\n  dataset.RGB.data_path=../ek_data/frames \\n\"' returned non-zero exit status 1.",
          "output_type": "error",
          "traceback": [
            "\u001b[0;31m---------------------------------------------------------------------------\u001b[0m",
            "\u001b[0;31mCalledProcessError\u001b[0m                        Traceback (most recent call last)",
            "\u001b[1;32m/home/davide/Desktop/useful data/aml23-ego/colab_runner.ipynb Cell 40\u001b[0m line \u001b[0;36m1\n\u001b[0;32m----> <a href='vscode-notebook-cell:/home/davide/Desktop/useful%20data/aml23-ego/colab_runner.ipynb#X54sZmlsZQ%3D%3D?line=0'>1</a>\u001b[0m get_ipython()\u001b[39m.\u001b[39mrun_cell_magic(\u001b[39m'\u001b[39m\u001b[39mbash\u001b[39m\u001b[39m'\u001b[39m, \u001b[39m'\u001b[39m\u001b[39m'\u001b[39m, \u001b[39m\"\u001b[39m\u001b[39mcd aml23-ego \u001b[39m\u001b[39m\\n\u001b[39;00m\u001b[39m# CLASSIFIER\u001b[39m\u001b[39m'\u001b[39m\u001b[39ms TRAINING\u001b[39m\u001b[39m\\n\u001b[39;00m\u001b[39mpython train_classifier_fusion.py name=D1 \u001b[39m\u001b[39m\\\\\u001b[39;00m\u001b[39m\\n\u001b[39;00m\u001b[39m  config=configs/fusion.yaml \u001b[39m\u001b[39m\\\\\u001b[39;00m\u001b[39m\\n\u001b[39;00m\u001b[39m  dataset.shift=D1-D1 \u001b[39m\u001b[39m\\\\\u001b[39;00m\u001b[39m\\n\u001b[39;00m\u001b[39m  dataset.RGB.data_path=../ek_data/frames \u001b[39m\u001b[39m\\n\u001b[39;00m\u001b[39m\"\u001b[39m)\n",
            "File \u001b[0;32m/opt/anaconda/lib/python3.11/site-packages/IPython/core/interactiveshell.py:2493\u001b[0m, in \u001b[0;36mInteractiveShell.run_cell_magic\u001b[0;34m(self, magic_name, line, cell)\u001b[0m\n\u001b[1;32m   2491\u001b[0m \u001b[39mwith\u001b[39;00m \u001b[39mself\u001b[39m\u001b[39m.\u001b[39mbuiltin_trap:\n\u001b[1;32m   2492\u001b[0m     args \u001b[39m=\u001b[39m (magic_arg_s, cell)\n\u001b[0;32m-> 2493\u001b[0m     result \u001b[39m=\u001b[39m fn(\u001b[39m*\u001b[39margs, \u001b[39m*\u001b[39m\u001b[39m*\u001b[39mkwargs)\n\u001b[1;32m   2495\u001b[0m \u001b[39m# The code below prevents the output from being displayed\u001b[39;00m\n\u001b[1;32m   2496\u001b[0m \u001b[39m# when using magics with decorator @output_can_be_silenced\u001b[39;00m\n\u001b[1;32m   2497\u001b[0m \u001b[39m# when the last Python token in the expression is a ';'.\u001b[39;00m\n\u001b[1;32m   2498\u001b[0m \u001b[39mif\u001b[39;00m \u001b[39mgetattr\u001b[39m(fn, magic\u001b[39m.\u001b[39mMAGIC_OUTPUT_CAN_BE_SILENCED, \u001b[39mFalse\u001b[39;00m):\n",
            "File \u001b[0;32m/opt/anaconda/lib/python3.11/site-packages/IPython/core/magics/script.py:154\u001b[0m, in \u001b[0;36mScriptMagics._make_script_magic.<locals>.named_script_magic\u001b[0;34m(line, cell)\u001b[0m\n\u001b[1;32m    152\u001b[0m \u001b[39melse\u001b[39;00m:\n\u001b[1;32m    153\u001b[0m     line \u001b[39m=\u001b[39m script\n\u001b[0;32m--> 154\u001b[0m \u001b[39mreturn\u001b[39;00m \u001b[39mself\u001b[39m\u001b[39m.\u001b[39mshebang(line, cell)\n",
            "File \u001b[0;32m/opt/anaconda/lib/python3.11/site-packages/IPython/core/magics/script.py:314\u001b[0m, in \u001b[0;36mScriptMagics.shebang\u001b[0;34m(self, line, cell)\u001b[0m\n\u001b[1;32m    309\u001b[0m \u001b[39mif\u001b[39;00m args\u001b[39m.\u001b[39mraise_error \u001b[39mand\u001b[39;00m p\u001b[39m.\u001b[39mreturncode \u001b[39m!=\u001b[39m \u001b[39m0\u001b[39m:\n\u001b[1;32m    310\u001b[0m     \u001b[39m# If we get here and p.returncode is still None, we must have\u001b[39;00m\n\u001b[1;32m    311\u001b[0m     \u001b[39m# killed it but not yet seen its return code. We don't wait for it,\u001b[39;00m\n\u001b[1;32m    312\u001b[0m     \u001b[39m# in case it's stuck in uninterruptible sleep. -9 = SIGKILL\u001b[39;00m\n\u001b[1;32m    313\u001b[0m     rc \u001b[39m=\u001b[39m p\u001b[39m.\u001b[39mreturncode \u001b[39mor\u001b[39;00m \u001b[39m-\u001b[39m\u001b[39m9\u001b[39m\n\u001b[0;32m--> 314\u001b[0m     \u001b[39mraise\u001b[39;00m CalledProcessError(rc, cell)\n",
            "\u001b[0;31mCalledProcessError\u001b[0m: Command 'b\"cd aml23-ego \\n# CLASSIFIER's TRAINING\\npython train_classifier_fusion.py name=D1 \\\\\\n  config=configs/fusion.yaml \\\\\\n  dataset.shift=D1-D1 \\\\\\n  dataset.RGB.data_path=../ek_data/frames \\n\"' returned non-zero exit status 1."
          ]
        }
      ],
      "source": [
        "%%bash\n",
        "cd aml23-ego \n",
        "# CLASSIFIER's TRAINING\n",
        "python train_classifier_fusion.py name=D1 \\\n",
        "  config=configs/fusion.yaml \\\n",
        "  dataset.shift=D1-D1 \\\n",
        "  dataset.RGB.data_path=../ek_data/frames "
      ]
    }
  ],
  "metadata": {
    "accelerator": "GPU",
    "colab": {
      "authorship_tag": "ABX9TyMA44pwS84HIKtaEclSmH2W",
      "include_colab_link": true,
      "provenance": []
    },
    "gpuClass": "standard",
    "kernelspec": {
      "display_name": "aml22",
      "language": "python",
      "name": "python3"
    },
    "language_info": {
      "codemirror_mode": {
        "name": "ipython",
        "version": 3
      },
      "file_extension": ".py",
      "mimetype": "text/x-python",
      "name": "python",
      "nbconvert_exporter": "python",
      "pygments_lexer": "ipython3",
      "version": "3.11.5"
    },
    "vscode": {
      "interpreter": {
        "hash": "2fc1f0eeae38a5df67b0f713e03196095ce1bfa55aa551576e8e58c2ba904c5a"
      }
    }
  },
  "nbformat": 4,
  "nbformat_minor": 0
}
